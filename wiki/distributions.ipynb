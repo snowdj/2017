{
 "cells": [
  {
   "cell_type": "markdown",
   "metadata": {},
   "source": [
    "# TODO:\n",
    "The original of this file is missing, but great content. Only a few changes need to be made. We may work directly from the markdown."
   ]
  },
  {
   "cell_type": "markdown",
   "metadata": {
    "hide": true
   },
   "source": [
    "# Summary\n",
    "\n",
    "Remember that a Random Variable is a mapping X:Ω→R\n",
    "that assigns a real number X(ω) to each outcome ω in a sample space Ω. The definitions below are taken from Larry Wasserman’s All of Statistics."
   ]
  },
  {
   "cell_type": "markdown",
   "metadata": {},
   "source": [
    "## Random Variables\n",
    "In discussing the rules of probability we encountered the notion of $\\Omega$, the set of all possible outcomes of a random process. \n",
    "\n",
    "To link the notion of events such as $E$ and collections of events, or *probability spaces* $\\Omega$ to data, we must introduce the concept of random variables. The following definition is taken from Larry Wasserman's All of Stats.\n",
    "\n",
    "**Definition**. A random variable is a mapping\n",
    "\n",
    "$$ X: \\Omega \\rightarrow \\mathbb{R}$$\n",
    "\n",
    "that assigns a real number $X(\\omega)$ to each outcome $\\omega$. $\\Omega$ is the sample space. Points\n",
    "$\\omega$ in $\\Omega$ are called sample outcomes, realizations, or elements. Subsets of\n",
    "$\\Omega$ are called Events. Say $\\omega = HHTTTTHTT$ then $X(\\omega) = 3$ if defined as number of heads in the sequence $\\omega$.\n",
    "\n",
    "We will assign a real number P(A) to every event A, called the probability of\n",
    "A. We also call P a probability distribution or a probability measure.\n",
    "To qualify as a probability, P must satisfy the three axioms (non-negative, $P(\\Omega)=1$, disjoint probs add)."
   ]
  },
  {
   "cell_type": "markdown",
   "metadata": {},
   "source": []
  },
  {
   "cell_type": "code",
   "execution_count": null,
   "metadata": {
    "collapsed": true
   },
   "outputs": [],
   "source": []
  }
 ],
 "metadata": {
  "anaconda-cloud": {},
  "celltoolbar": "Edit Metadata",
  "kernelspec": {
   "display_name": "Python 3",
   "language": "python",
   "name": "python3"
  },
  "language_info": {
   "codemirror_mode": {
    "name": "ipython",
    "version": 3
   },
   "file_extension": ".py",
   "mimetype": "text/x-python",
   "name": "python",
   "nbconvert_exporter": "python",
   "pygments_lexer": "ipython3",
   "version": "3.6.0"
  }
 },
 "nbformat": 4,
 "nbformat_minor": 0
}
